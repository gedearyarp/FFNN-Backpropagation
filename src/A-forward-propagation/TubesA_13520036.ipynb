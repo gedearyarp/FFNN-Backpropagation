{
 "cells": [
  {
   "attachments": {},
   "cell_type": "markdown",
   "metadata": {},
   "source": [
    "# Tugas Besar A\n",
    "IF3270 Pembelajaran Mesin<br>\n",
    "Forward Propagation - Feed Forward Neural Network (FFNN)\n",
    "\n",
    "Developed by:\n",
    "1. K01 13520010 - Ken Kalang Al Qalyubi\n",
    "2. K01 13520036 - I Gede Arya Raditya Parameswara\n",
    "3. K02 13520061 - Gibran Darmawan\n",
    "4. K03 13520119 - Marchotridyo"
   ]
  },
  {
   "attachments": {},
   "cell_type": "markdown",
   "metadata": {},
   "source": [
    "## Library"
   ]
  },
  {
   "cell_type": "code",
   "execution_count": null,
   "metadata": {},
   "outputs": [],
   "source": [
    "import pandas as pd\n",
    "import os, subprocess, sys\n",
    "import json, math, typing, copy\n",
    "import numpy as np\n",
    "import matplotlib as plt"
   ]
  },
  {
   "attachments": {},
   "cell_type": "markdown",
   "metadata": {},
   "source": [
    "## Enum"
   ]
  },
  {
   "cell_type": "code",
   "execution_count": null,
   "metadata": {},
   "outputs": [],
   "source": [
    "class LayerEnum:\n",
    "    INPUT = \"INPUT\"\n",
    "    HIDDEN = \"HIDDEN\"\n",
    "    OUTPUT = \"OUTPUT\"\n",
    "\n",
    "class ActivationFuncEnum:\n",
    "    SIGMOID = \"SIGMOID\"\n",
    "    LINEAR = \"LINEAR\"\n",
    "    RELU = \"RELU\"\n",
    "    SOFTMAX = \"SOFTMAX\""
   ]
  },
  {
   "attachments": {},
   "cell_type": "markdown",
   "metadata": {},
   "source": [
    "## File Utility"
   ]
  },
  {
   "cell_type": "code",
   "execution_count": null,
   "metadata": {},
   "outputs": [],
   "source": [
    "class FileUtility:\n",
    "    @staticmethod\n",
    "    def import_json(file_name):\n",
    "        with open(file_name) as json_file:\n",
    "            return json.load(json_file)\n",
    "\n",
    "    @staticmethod\n",
    "    def export_json(file_name, data):\n",
    "        with open(file_name, 'w') as outfile:\n",
    "            json.dump(data, outfile)"
   ]
  },
  {
   "attachments": {},
   "cell_type": "markdown",
   "metadata": {},
   "source": [
    "## Neuron"
   ]
  },
  {
   "cell_type": "code",
   "execution_count": null,
   "metadata": {},
   "outputs": [],
   "source": [
    "class Neuron:\n",
    "    def __init__(self, layer: LayerEnum, activation: ActivationFuncEnum, index: int, weights: list, bias: float, value: float = 0.0):\n",
    "        self.layer = layer\n",
    "        self.activation = activation\n",
    "        self.index = index\n",
    "        self.weights = weights\n",
    "        self.bias = bias\n",
    "        self.value = 0.0\n",
    "\n",
    "    def __str__(self):\n",
    "        return \"Neuron: \" + str(self.index) + \" \" + str(self.layer) + \" \" + str(self.activation) + \" \" + str(self.value)\n",
    "\n",
    "    def __repr__(self):\n",
    "        return self.__str__()\n",
    "\n",
    "    def set_value(self, value: float):\n",
    "        self.value = value\n",
    "\n",
    "    def get_value(self):\n",
    "        return self.value\n",
    "\n",
    "    def get_activation(self):\n",
    "        return self.activation\n",
    "\n",
    "    def get_layer(self):\n",
    "        return self.layer\n",
    "\n",
    "    def get_index(self):\n",
    "        return self.index\n",
    "\n",
    "    def get_weights(self):\n",
    "        return self.weights\n",
    "\n",
    "    def get_bias(self):\n",
    "        return self.bias"
   ]
  },
  {
   "attachments": {},
   "cell_type": "markdown",
   "metadata": {},
   "source": [
    "## ANN Graph"
   ]
  },
  {
   "cell_type": "code",
   "execution_count": null,
   "metadata": {},
   "outputs": [],
   "source": [
    "class ANNGraph:\n",
    "    def __init__(self, file_config_path: str):\n",
    "        self.file_path = file_config_path\n",
    "        self.config = None\n",
    "        self.layers = []\n",
    "\n",
    "        self.build_ann_graph()\n",
    "\n",
    "    def build_ann_graph(self):\n",
    "        self.config = FileUtility.import_json(self.file_path)\n",
    "\n",
    "        for layer in self.config[\"layers\"]:\n",
    "            for n"
   ]
  }
 ],
 "metadata": {
  "language_info": {
   "name": "python"
  },
  "orig_nbformat": 4
 },
 "nbformat": 4,
 "nbformat_minor": 2
}
